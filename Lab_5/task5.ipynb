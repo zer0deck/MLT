{
  "cells": [
    {
      "cell_type": "markdown",
      "metadata": {
        "id": "OAqC8xXmZ1Av"
      },
      "source": [
        "## Convolutional Neural Network \n",
        "\n"
      ]
    },
    {
      "cell_type": "markdown",
      "metadata": {
        "id": "3z8CfGD5Z1Ay"
      },
      "source": [
        "In this notebook you will learn to distinguish dogs from cats!\n",
        "\n",
        "Data:\n",
        "https://drive.google.com/drive/folders/1nzVk4GOvKR6P87uPszUkKMPtaXV_wrZf?usp=sharing\n",
        "\n",
        "Fill all the necessary gaps in cells below and fit neural networks for solving the binary classification task.\n",
        "\n",
        "## Task 1:\n",
        "\n",
        "1. Build and fit CNN with 3 convolutional layers for binary classification\n",
        "2. Evaluate accuracy on test data\n",
        "3. Plot the graphs for Loss(number_of_epochs) and Accuracy(number_of_epochs)\n",
        "\n",
        "First, let's load all the necessary functions:\n"
      ]
    },
    {
      "cell_type": "code",
      "execution_count": 1,
      "metadata": {
        "colab": {
          "base_uri": "https://localhost:8080/",
          "height": 35
        },
        "id": "HyzNnZpdZ1A4",
        "outputId": "d588b0a5-de6a-426b-dd7e-f01f7ec78992"
      },
      "outputs": [],
      "source": [
        "from tensorflow.keras.models import Sequential\n",
        "from tensorflow.keras.layers import Activation, Dropout, Flatten, Dense, Conv2D, MaxPooling2D\n",
        "from tensorflow.keras.applications import VGG16\n",
        "from tensorflow.keras.optimizers import Adam\n",
        "from tensorflow.keras.preprocessing.image import ImageDataGenerator"
      ]
    },
    {
      "cell_type": "markdown",
      "metadata": {
        "id": "DS-6t0_XZ1BL"
      },
      "source": [
        "The images collected for training and testing the deep learning model must be prepared: split the entire set into a training, validation and test sample, observing the balancing of classes (with binary classification they should be approximately equal in all three samples).\n",
        "\n",
        "This has _already_ been done: in the Cats_and_Dogs directory there are three subdirectories: train, test and val - training, test and validation samples, respectively."
      ]
    },
    {
      "cell_type": "code",
      "execution_count": 2,
      "metadata": {
        "colab": {
          "base_uri": "https://localhost:8080/"
        },
        "id": "iK6VqL9Abk9v",
        "outputId": "fe984416-a8c0-4b15-aeee-967a35613e10"
      },
      "outputs": [],
      "source": [
        "# if you are using google colab for this task you can mount your GoogleDrive as follows: \n",
        "# from google.colab import drive\n",
        "# drive.mount('/content/drive/')\n",
        "\n",
        "# After running this cell you should enter the authorization code from your Google account"
      ]
    },
    {
      "cell_type": "code",
      "execution_count": 3,
      "metadata": {
        "id": "Ejt0NSnVZ1BP"
      },
      "outputs": [],
      "source": [
        "# Initialize the folders with train, test and validation datasets (in \"/My Drive/...\" or from your local repository where you have downloaded data):\n",
        "\n",
        "train = 'Dataset/train/..'\n",
        "val =   'Dataset/val/..'\n",
        "test =  'Dataset/test/..'\n",
        "\n",
        "# The shape of the RGB image\n",
        "img_width, img_height, channels = 150, 150, 3 # you can try different sizes\n",
        "\n",
        "# input shape\n",
        "input_shape = (img_width, img_height, 3)\n",
        "# position matters!\n",
        "# Number_of_channels can be at the first or the last position\n",
        "# in our case - \"channels last\"\n",
        "\n",
        "# minibatch size\n",
        "batch_size = 64\n",
        "# train set size\n",
        "nb_train_samples = 20\n",
        "# validation set size \n",
        "nb_validation_samples = 20\n",
        "# test set size\n",
        "nb_test_samples = 20"
      ]
    },
    {
      "cell_type": "markdown",
      "metadata": {
        "id": "rYe-jLGbZ1Bh"
      },
      "source": [
        "## Prepare the data.\n",
        "\n",
        "You don’t have to manually change the shapes of 25000 images and convert them into the necessary format for keras (img_width, img_height, 3).\n",
        "\n",
        "We will use the built-in image preprocessing function _ImageGenerator()_.\n",
        "\n",
        "It performs scaling, resizes selected images and prepares batches (mini-samples) to train the model."
      ]
    },
    {
      "cell_type": "code",
      "execution_count": 4,
      "metadata": {
        "colab": {
          "base_uri": "https://localhost:8080/",
          "height": 72
        },
        "id": "Ncx9lh6LZ1Bk",
        "outputId": "74fe1156-17d2-4f45-f589-520a5fc2d0b8"
      },
      "outputs": [
        {
          "name": "stdout",
          "output_type": "stream",
          "text": [
            "Found 24991 images belonging to 4 classes.\n",
            "Found 24991 images belonging to 4 classes.\n",
            "Found 24991 images belonging to 4 classes.\n"
          ]
        }
      ],
      "source": [
        "datagen = ImageDataGenerator(rescale=1. / 255)\n",
        "\n",
        "train_generator = datagen.flow_from_directory(\n",
        "    train,\n",
        "    target_size=(img_width, img_height),\n",
        "    batch_size=batch_size,\n",
        "    class_mode='binary')\n",
        "\n",
        "val_generator = datagen.flow_from_directory(\n",
        "    val,\n",
        "    target_size=(img_width, img_height),\n",
        "    batch_size=batch_size,\n",
        "    class_mode='binary')\n",
        "\n",
        "test_generator = datagen.flow_from_directory(\n",
        "    test,\n",
        "    target_size=(img_width, img_height),\n",
        "    batch_size=batch_size,\n",
        "    class_mode='binary')"
      ]
    },
    {
      "cell_type": "code",
      "execution_count": 5,
      "metadata": {
        "id": "MRvSz7oXZ1B2"
      },
      "outputs": [],
      "source": [
        "# # use generator for training the model (\"fit\" method analog)\n",
        "# model.fit_generator(\n",
        "#     train_generator,\n",
        "#     steps_per_epoch=nb_train_samples // batch_size,\n",
        "#     epochs=10,\n",
        "#     validation_data=val_generator,\n",
        "#     validation_steps=nb_validation_samples // batch_size)"
      ]
    },
    {
      "cell_type": "markdown",
      "metadata": {
        "id": "GthRQyZHZ1CI"
      },
      "source": [
        "Set the network architecture by sequentially adding layers to it:\n",
        "1. A convolutional layer with 16 neurons, filter size 3x3. Activation function - 'relu'\n",
        "2. MaxPooling layer with filter size 2x2.\n",
        "3. A convolutional layer with 32 neurons, filter size 3x3. Activation function - 'relu'\n",
        "4. MaxPooling layer with filter size 2x2.\n",
        "5. A convolutional layer with 64 neurons, filter size 3x3. Activation function - 'relu'\n",
        "6. MaxPooling layer with filter size 2x2.\n",
        "7. Operation model.add (Flatten ()), which makes a one-dimensional vector of the resulting feature maps.\n",
        "8. A fully connected layer with 64 neurons. Activation function - 'relu'\n",
        "9. Use model.add (Dropout (0.5)) which excludes the edge from the current layer in the computational graph with a 50% probability to avoid overfitting.\n",
        "10. A fully connected layer with 1 neuron. Activation function - 'sigmoid', because binary classification model.\n",
        "\n",
        "Add to the model all the missing layers, by analogy with the already specified.\n",
        "Keras documentation: https://keras.io/layers/about-keras-layers/"
      ]
    },
    {
      "cell_type": "code",
      "execution_count": 6,
      "metadata": {
        "id": "yNik7qzRZ1CU"
      },
      "outputs": [],
      "source": [
        "model = Sequential()\n",
        "\n",
        "# 1: +Convolutional\n",
        "# For example:\n",
        "model.add(Conv2D(16, (3, 3), input_shape=(150, 150, 3)))\n",
        "model.add(Activation('relu'))\n",
        "\n",
        "# 2: +Pooling\n",
        "# 3:\n",
        "# model.add(Conv2D(32, (3, 3)))\n",
        "#     +Relu\n",
        "\n",
        "# 4:  +Pooling \n",
        "# 5:  +Convolutional\n",
        "#     +Relu\n",
        "# 6:  +Pooling \n",
        "# 7:  +Flattening\n",
        "# 8:  +Dense\n",
        "#     +ReLu\n",
        "# 9:  +Dropout\n",
        "# 10: +Dense\n",
        "#     +Sigmoid\n"
      ]
    },
    {
      "cell_type": "code",
      "execution_count": 7,
      "metadata": {
        "id": "0nNS5cLjZ1Cg"
      },
      "outputs": [],
      "source": [
        "model.compile(loss='binary_crossentropy',\n",
        "              optimizer='adam',\n",
        "              metrics=['accuracy'])"
      ]
    },
    {
      "cell_type": "code",
      "execution_count": 8,
      "metadata": {
        "id": "BzqPxMJdZ1Cu"
      },
      "outputs": [
        {
          "name": "stderr",
          "output_type": "stream",
          "text": [
            "/var/folders/1x/1zh1gh3s0gn4wj0d3z8q2x4m0000gn/T/ipykernel_10523/2933274560.py:5: UserWarning: `Model.fit_generator` is deprecated and will be removed in a future version. Please use `Model.fit`, which supports generators.\n",
            "  model.fit_generator(\n",
            "2022-02-23 23:13:55.202846: W tensorflow/core/platform/profile_utils/cpu_utils.cc:128] Failed to get CPU frequency: 0 Hz\n"
          ]
        },
        {
          "name": "stdout",
          "output_type": "stream",
          "text": [
            "Epoch 1/10\n"
          ]
        },
        {
          "ename": "ValueError",
          "evalue": "Unexpected result of `train_function` (Empty logs). Please use `Model.compile(..., run_eagerly=True)`, or `tf.config.run_functions_eagerly(True)` for more information of where went wrong, or file a issue/bug to `tf.keras`.",
          "output_type": "error",
          "traceback": [
            "\u001b[0;31m---------------------------------------------------------------------------\u001b[0m",
            "\u001b[0;31mValueError\u001b[0m                                Traceback (most recent call last)",
            "\u001b[1;32m/Users/zer0deck/Documents/Документы/Магистратура/MLT/MLT/Lab_5/task5.ipynb Cell 13'\u001b[0m in \u001b[0;36m<module>\u001b[0;34m\u001b[0m\n\u001b[1;32m      <a href='vscode-notebook-cell:/Users/zer0deck/Documents/%D0%94%D0%BE%D0%BA%D1%83%D0%BC%D0%B5%D0%BD%D1%82%D1%8B/%D0%9C%D0%B0%D0%B3%D0%B8%D1%81%D1%82%D1%80%D0%B0%D1%82%D1%83%D1%80%D0%B0/MLT/MLT/Lab_5/task5.ipynb#ch0000012?line=0'>1</a>\u001b[0m \u001b[39m# use the generator to train the model (analogue of the fit method)\u001b[39;00m\n\u001b[1;32m      <a href='vscode-notebook-cell:/Users/zer0deck/Documents/%D0%94%D0%BE%D0%BA%D1%83%D0%BC%D0%B5%D0%BD%D1%82%D1%8B/%D0%9C%D0%B0%D0%B3%D0%B8%D1%81%D1%82%D1%80%D0%B0%D1%82%D1%83%D1%80%D0%B0/MLT/MLT/Lab_5/task5.ipynb#ch0000012?line=1'>2</a>\u001b[0m \u001b[39m# 1 epoch of training on a CPU will take 4-6 minutes. The GPU is an ~order of magnitude faster.\u001b[39;00m\n\u001b[1;32m      <a href='vscode-notebook-cell:/Users/zer0deck/Documents/%D0%94%D0%BE%D0%BA%D1%83%D0%BC%D0%B5%D0%BD%D1%82%D1%8B/%D0%9C%D0%B0%D0%B3%D0%B8%D1%81%D1%82%D1%80%D0%B0%D1%82%D1%83%D1%80%D0%B0/MLT/MLT/Lab_5/task5.ipynb#ch0000012?line=2'>3</a>\u001b[0m \u001b[39m# THE FIRST EPOCH USUALLY TAKES MUCH LARGER TIME AS KERAS SHOULD BUILD THE COMPUTATIONAL GRAPH\u001b[39;00m\n\u001b[0;32m----> <a href='vscode-notebook-cell:/Users/zer0deck/Documents/%D0%94%D0%BE%D0%BA%D1%83%D0%BC%D0%B5%D0%BD%D1%82%D1%8B/%D0%9C%D0%B0%D0%B3%D0%B8%D1%81%D1%82%D1%80%D0%B0%D1%82%D1%83%D1%80%D0%B0/MLT/MLT/Lab_5/task5.ipynb#ch0000012?line=4'>5</a>\u001b[0m model\u001b[39m.\u001b[39;49mfit_generator(\n\u001b[1;32m      <a href='vscode-notebook-cell:/Users/zer0deck/Documents/%D0%94%D0%BE%D0%BA%D1%83%D0%BC%D0%B5%D0%BD%D1%82%D1%8B/%D0%9C%D0%B0%D0%B3%D0%B8%D1%81%D1%82%D1%80%D0%B0%D1%82%D1%83%D1%80%D0%B0/MLT/MLT/Lab_5/task5.ipynb#ch0000012?line=5'>6</a>\u001b[0m     train_generator,\n\u001b[1;32m      <a href='vscode-notebook-cell:/Users/zer0deck/Documents/%D0%94%D0%BE%D0%BA%D1%83%D0%BC%D0%B5%D0%BD%D1%82%D1%8B/%D0%9C%D0%B0%D0%B3%D0%B8%D1%81%D1%82%D1%80%D0%B0%D1%82%D1%83%D1%80%D0%B0/MLT/MLT/Lab_5/task5.ipynb#ch0000012?line=6'>7</a>\u001b[0m     steps_per_epoch\u001b[39m=\u001b[39;49mnb_train_samples \u001b[39m/\u001b[39;49m\u001b[39m/\u001b[39;49m batch_size,\n\u001b[1;32m      <a href='vscode-notebook-cell:/Users/zer0deck/Documents/%D0%94%D0%BE%D0%BA%D1%83%D0%BC%D0%B5%D0%BD%D1%82%D1%8B/%D0%9C%D0%B0%D0%B3%D0%B8%D1%81%D1%82%D1%80%D0%B0%D1%82%D1%83%D1%80%D0%B0/MLT/MLT/Lab_5/task5.ipynb#ch0000012?line=7'>8</a>\u001b[0m     epochs\u001b[39m=\u001b[39;49m\u001b[39m10\u001b[39;49m, \u001b[39m# try different number of epochs: 10, 15, 20; check the loss and accuracy;\u001b[39;49;00m\n\u001b[1;32m      <a href='vscode-notebook-cell:/Users/zer0deck/Documents/%D0%94%D0%BE%D0%BA%D1%83%D0%BC%D0%B5%D0%BD%D1%82%D1%8B/%D0%9C%D0%B0%D0%B3%D0%B8%D1%81%D1%82%D1%80%D0%B0%D1%82%D1%83%D1%80%D0%B0/MLT/MLT/Lab_5/task5.ipynb#ch0000012?line=8'>9</a>\u001b[0m     validation_data\u001b[39m=\u001b[39;49mval_generator,\n\u001b[1;32m     <a href='vscode-notebook-cell:/Users/zer0deck/Documents/%D0%94%D0%BE%D0%BA%D1%83%D0%BC%D0%B5%D0%BD%D1%82%D1%8B/%D0%9C%D0%B0%D0%B3%D0%B8%D1%81%D1%82%D1%80%D0%B0%D1%82%D1%83%D1%80%D0%B0/MLT/MLT/Lab_5/task5.ipynb#ch0000012?line=9'>10</a>\u001b[0m     validation_steps\u001b[39m=\u001b[39;49mnb_validation_samples \u001b[39m/\u001b[39;49m\u001b[39m/\u001b[39;49m batch_size)\n",
            "File \u001b[0;32m/opt/homebrew/Caskroom/miniforge/base/lib/python3.9/site-packages/keras/engine/training.py:2016\u001b[0m, in \u001b[0;36mModel.fit_generator\u001b[0;34m(self, generator, steps_per_epoch, epochs, verbose, callbacks, validation_data, validation_steps, validation_freq, class_weight, max_queue_size, workers, use_multiprocessing, shuffle, initial_epoch)\u001b[0m\n\u001b[1;32m   <a href='file:///opt/homebrew/Caskroom/miniforge/base/lib/python3.9/site-packages/keras/engine/training.py?line=2004'>2005</a>\u001b[0m \u001b[39m\"\"\"Fits the model on data yielded batch-by-batch by a Python generator.\u001b[39;00m\n\u001b[1;32m   <a href='file:///opt/homebrew/Caskroom/miniforge/base/lib/python3.9/site-packages/keras/engine/training.py?line=2005'>2006</a>\u001b[0m \n\u001b[1;32m   <a href='file:///opt/homebrew/Caskroom/miniforge/base/lib/python3.9/site-packages/keras/engine/training.py?line=2006'>2007</a>\u001b[0m \u001b[39mDEPRECATED:\u001b[39;00m\n\u001b[1;32m   <a href='file:///opt/homebrew/Caskroom/miniforge/base/lib/python3.9/site-packages/keras/engine/training.py?line=2007'>2008</a>\u001b[0m \u001b[39m  `Model.fit` now supports generators, so there is no longer any need to use\u001b[39;00m\n\u001b[1;32m   <a href='file:///opt/homebrew/Caskroom/miniforge/base/lib/python3.9/site-packages/keras/engine/training.py?line=2008'>2009</a>\u001b[0m \u001b[39m  this endpoint.\u001b[39;00m\n\u001b[1;32m   <a href='file:///opt/homebrew/Caskroom/miniforge/base/lib/python3.9/site-packages/keras/engine/training.py?line=2009'>2010</a>\u001b[0m \u001b[39m\"\"\"\u001b[39;00m\n\u001b[1;32m   <a href='file:///opt/homebrew/Caskroom/miniforge/base/lib/python3.9/site-packages/keras/engine/training.py?line=2010'>2011</a>\u001b[0m warnings\u001b[39m.\u001b[39mwarn(\n\u001b[1;32m   <a href='file:///opt/homebrew/Caskroom/miniforge/base/lib/python3.9/site-packages/keras/engine/training.py?line=2011'>2012</a>\u001b[0m     \u001b[39m'\u001b[39m\u001b[39m`Model.fit_generator` is deprecated and \u001b[39m\u001b[39m'\u001b[39m\n\u001b[1;32m   <a href='file:///opt/homebrew/Caskroom/miniforge/base/lib/python3.9/site-packages/keras/engine/training.py?line=2012'>2013</a>\u001b[0m     \u001b[39m'\u001b[39m\u001b[39mwill be removed in a future version. \u001b[39m\u001b[39m'\u001b[39m\n\u001b[1;32m   <a href='file:///opt/homebrew/Caskroom/miniforge/base/lib/python3.9/site-packages/keras/engine/training.py?line=2013'>2014</a>\u001b[0m     \u001b[39m'\u001b[39m\u001b[39mPlease use `Model.fit`, which supports generators.\u001b[39m\u001b[39m'\u001b[39m,\n\u001b[1;32m   <a href='file:///opt/homebrew/Caskroom/miniforge/base/lib/python3.9/site-packages/keras/engine/training.py?line=2014'>2015</a>\u001b[0m     stacklevel\u001b[39m=\u001b[39m\u001b[39m2\u001b[39m)\n\u001b[0;32m-> <a href='file:///opt/homebrew/Caskroom/miniforge/base/lib/python3.9/site-packages/keras/engine/training.py?line=2015'>2016</a>\u001b[0m \u001b[39mreturn\u001b[39;00m \u001b[39mself\u001b[39;49m\u001b[39m.\u001b[39;49mfit(\n\u001b[1;32m   <a href='file:///opt/homebrew/Caskroom/miniforge/base/lib/python3.9/site-packages/keras/engine/training.py?line=2016'>2017</a>\u001b[0m     generator,\n\u001b[1;32m   <a href='file:///opt/homebrew/Caskroom/miniforge/base/lib/python3.9/site-packages/keras/engine/training.py?line=2017'>2018</a>\u001b[0m     steps_per_epoch\u001b[39m=\u001b[39;49msteps_per_epoch,\n\u001b[1;32m   <a href='file:///opt/homebrew/Caskroom/miniforge/base/lib/python3.9/site-packages/keras/engine/training.py?line=2018'>2019</a>\u001b[0m     epochs\u001b[39m=\u001b[39;49mepochs,\n\u001b[1;32m   <a href='file:///opt/homebrew/Caskroom/miniforge/base/lib/python3.9/site-packages/keras/engine/training.py?line=2019'>2020</a>\u001b[0m     verbose\u001b[39m=\u001b[39;49mverbose,\n\u001b[1;32m   <a href='file:///opt/homebrew/Caskroom/miniforge/base/lib/python3.9/site-packages/keras/engine/training.py?line=2020'>2021</a>\u001b[0m     callbacks\u001b[39m=\u001b[39;49mcallbacks,\n\u001b[1;32m   <a href='file:///opt/homebrew/Caskroom/miniforge/base/lib/python3.9/site-packages/keras/engine/training.py?line=2021'>2022</a>\u001b[0m     validation_data\u001b[39m=\u001b[39;49mvalidation_data,\n\u001b[1;32m   <a href='file:///opt/homebrew/Caskroom/miniforge/base/lib/python3.9/site-packages/keras/engine/training.py?line=2022'>2023</a>\u001b[0m     validation_steps\u001b[39m=\u001b[39;49mvalidation_steps,\n\u001b[1;32m   <a href='file:///opt/homebrew/Caskroom/miniforge/base/lib/python3.9/site-packages/keras/engine/training.py?line=2023'>2024</a>\u001b[0m     validation_freq\u001b[39m=\u001b[39;49mvalidation_freq,\n\u001b[1;32m   <a href='file:///opt/homebrew/Caskroom/miniforge/base/lib/python3.9/site-packages/keras/engine/training.py?line=2024'>2025</a>\u001b[0m     class_weight\u001b[39m=\u001b[39;49mclass_weight,\n\u001b[1;32m   <a href='file:///opt/homebrew/Caskroom/miniforge/base/lib/python3.9/site-packages/keras/engine/training.py?line=2025'>2026</a>\u001b[0m     max_queue_size\u001b[39m=\u001b[39;49mmax_queue_size,\n\u001b[1;32m   <a href='file:///opt/homebrew/Caskroom/miniforge/base/lib/python3.9/site-packages/keras/engine/training.py?line=2026'>2027</a>\u001b[0m     workers\u001b[39m=\u001b[39;49mworkers,\n\u001b[1;32m   <a href='file:///opt/homebrew/Caskroom/miniforge/base/lib/python3.9/site-packages/keras/engine/training.py?line=2027'>2028</a>\u001b[0m     use_multiprocessing\u001b[39m=\u001b[39;49muse_multiprocessing,\n\u001b[1;32m   <a href='file:///opt/homebrew/Caskroom/miniforge/base/lib/python3.9/site-packages/keras/engine/training.py?line=2028'>2029</a>\u001b[0m     shuffle\u001b[39m=\u001b[39;49mshuffle,\n\u001b[1;32m   <a href='file:///opt/homebrew/Caskroom/miniforge/base/lib/python3.9/site-packages/keras/engine/training.py?line=2029'>2030</a>\u001b[0m     initial_epoch\u001b[39m=\u001b[39;49minitial_epoch)\n",
            "File \u001b[0;32m/opt/homebrew/Caskroom/miniforge/base/lib/python3.9/site-packages/keras/utils/traceback_utils.py:67\u001b[0m, in \u001b[0;36mfilter_traceback.<locals>.error_handler\u001b[0;34m(*args, **kwargs)\u001b[0m\n\u001b[1;32m     <a href='file:///opt/homebrew/Caskroom/miniforge/base/lib/python3.9/site-packages/keras/utils/traceback_utils.py?line=64'>65</a>\u001b[0m \u001b[39mexcept\u001b[39;00m \u001b[39mException\u001b[39;00m \u001b[39mas\u001b[39;00m e:  \u001b[39m# pylint: disable=broad-except\u001b[39;00m\n\u001b[1;32m     <a href='file:///opt/homebrew/Caskroom/miniforge/base/lib/python3.9/site-packages/keras/utils/traceback_utils.py?line=65'>66</a>\u001b[0m   filtered_tb \u001b[39m=\u001b[39m _process_traceback_frames(e\u001b[39m.\u001b[39m__traceback__)\n\u001b[0;32m---> <a href='file:///opt/homebrew/Caskroom/miniforge/base/lib/python3.9/site-packages/keras/utils/traceback_utils.py?line=66'>67</a>\u001b[0m   \u001b[39mraise\u001b[39;00m e\u001b[39m.\u001b[39mwith_traceback(filtered_tb) \u001b[39mfrom\u001b[39;00m \u001b[39mNone\u001b[39m\n\u001b[1;32m     <a href='file:///opt/homebrew/Caskroom/miniforge/base/lib/python3.9/site-packages/keras/utils/traceback_utils.py?line=67'>68</a>\u001b[0m \u001b[39mfinally\u001b[39;00m:\n\u001b[1;32m     <a href='file:///opt/homebrew/Caskroom/miniforge/base/lib/python3.9/site-packages/keras/utils/traceback_utils.py?line=68'>69</a>\u001b[0m   \u001b[39mdel\u001b[39;00m filtered_tb\n",
            "File \u001b[0;32m/opt/homebrew/Caskroom/miniforge/base/lib/python3.9/site-packages/keras/engine/training.py:1227\u001b[0m, in \u001b[0;36mModel.fit\u001b[0;34m(self, x, y, batch_size, epochs, verbose, callbacks, validation_split, validation_data, shuffle, class_weight, sample_weight, initial_epoch, steps_per_epoch, validation_steps, validation_batch_size, validation_freq, max_queue_size, workers, use_multiprocessing)\u001b[0m\n\u001b[1;32m   <a href='file:///opt/homebrew/Caskroom/miniforge/base/lib/python3.9/site-packages/keras/engine/training.py?line=1224'>1225</a>\u001b[0m logs \u001b[39m=\u001b[39m tf_utils\u001b[39m.\u001b[39msync_to_numpy_or_python_type(logs)\n\u001b[1;32m   <a href='file:///opt/homebrew/Caskroom/miniforge/base/lib/python3.9/site-packages/keras/engine/training.py?line=1225'>1226</a>\u001b[0m \u001b[39mif\u001b[39;00m logs \u001b[39mis\u001b[39;00m \u001b[39mNone\u001b[39;00m:\n\u001b[0;32m-> <a href='file:///opt/homebrew/Caskroom/miniforge/base/lib/python3.9/site-packages/keras/engine/training.py?line=1226'>1227</a>\u001b[0m   \u001b[39mraise\u001b[39;00m \u001b[39mValueError\u001b[39;00m(\u001b[39m'\u001b[39m\u001b[39mUnexpected result of `train_function` \u001b[39m\u001b[39m'\u001b[39m\n\u001b[1;32m   <a href='file:///opt/homebrew/Caskroom/miniforge/base/lib/python3.9/site-packages/keras/engine/training.py?line=1227'>1228</a>\u001b[0m                    \u001b[39m'\u001b[39m\u001b[39m(Empty logs). Please use \u001b[39m\u001b[39m'\u001b[39m\n\u001b[1;32m   <a href='file:///opt/homebrew/Caskroom/miniforge/base/lib/python3.9/site-packages/keras/engine/training.py?line=1228'>1229</a>\u001b[0m                    \u001b[39m'\u001b[39m\u001b[39m`Model.compile(..., run_eagerly=True)`, or \u001b[39m\u001b[39m'\u001b[39m\n\u001b[1;32m   <a href='file:///opt/homebrew/Caskroom/miniforge/base/lib/python3.9/site-packages/keras/engine/training.py?line=1229'>1230</a>\u001b[0m                    \u001b[39m'\u001b[39m\u001b[39m`tf.config.run_functions_eagerly(True)` for more \u001b[39m\u001b[39m'\u001b[39m\n\u001b[1;32m   <a href='file:///opt/homebrew/Caskroom/miniforge/base/lib/python3.9/site-packages/keras/engine/training.py?line=1230'>1231</a>\u001b[0m                    \u001b[39m'\u001b[39m\u001b[39minformation of where went wrong, or file a \u001b[39m\u001b[39m'\u001b[39m\n\u001b[1;32m   <a href='file:///opt/homebrew/Caskroom/miniforge/base/lib/python3.9/site-packages/keras/engine/training.py?line=1231'>1232</a>\u001b[0m                    \u001b[39m'\u001b[39m\u001b[39missue/bug to `tf.keras`.\u001b[39m\u001b[39m'\u001b[39m)\n\u001b[1;32m   <a href='file:///opt/homebrew/Caskroom/miniforge/base/lib/python3.9/site-packages/keras/engine/training.py?line=1232'>1233</a>\u001b[0m epoch_logs \u001b[39m=\u001b[39m copy\u001b[39m.\u001b[39mcopy(logs)\n\u001b[1;32m   <a href='file:///opt/homebrew/Caskroom/miniforge/base/lib/python3.9/site-packages/keras/engine/training.py?line=1234'>1235</a>\u001b[0m \u001b[39m# Run validation.\u001b[39;00m\n",
            "\u001b[0;31mValueError\u001b[0m: Unexpected result of `train_function` (Empty logs). Please use `Model.compile(..., run_eagerly=True)`, or `tf.config.run_functions_eagerly(True)` for more information of where went wrong, or file a issue/bug to `tf.keras`."
          ]
        }
      ],
      "source": [
        "# use the generator to train the model (analogue of the fit method)\n",
        "# 1 epoch of training on a CPU will take 4-6 minutes. The GPU is an ~order of magnitude faster.\n",
        "# THE FIRST EPOCH USUALLY TAKES MUCH LARGER TIME AS KERAS SHOULD BUILD THE COMPUTATIONAL GRAPH\n",
        "\n",
        "model.fit_generator(\n",
        "    train_generator,\n",
        "    steps_per_epoch=nb_train_samples // batch_size,\n",
        "    epochs=10, # try different number of epochs: 10, 15, 20; check the loss and accuracy;\n",
        "    validation_data=val_generator,\n",
        "    validation_steps=nb_validation_samples // batch_size)\n",
        "# model.fit_generator(\n",
        "#     train_generator,\n",
        "#     steps_per_epoch=nb_train_samples // batch_size,\n",
        "#     epochs=10,\n",
        "#     validation_data=val_generator,\n",
        "#     validation_steps=nb_validation_samples // batch_size)"
      ]
    },
    {
      "cell_type": "code",
      "execution_count": null,
      "metadata": {
        "id": "KBMrJqBHZ1DT"
      },
      "outputs": [],
      "source": [
        "# NOTE: if the accuracy on test data after 15 epochs is less than 80% smth goes wrong\n",
        "\n",
        "scores = model.evaluate_generator(test_generator, nb_test_samples // batch_size)\n",
        "print(\"Accuracy on test data: %.2f%%\" % (scores[1]*100))"
      ]
    },
    {
      "cell_type": "markdown",
      "metadata": {
        "id": "Mle_LO6XMJ62"
      },
      "source": [
        "Plot the graphs: \n",
        "\n",
        "- Loss(Number of epochs)\n",
        "\n",
        "- Accuracy(Number of epochs)"
      ]
    },
    {
      "cell_type": "code",
      "execution_count": null,
      "metadata": {
        "colab": {
          "base_uri": "https://localhost:8080/",
          "height": 356
        },
        "id": "icBG1BT0WVSE",
        "outputId": "a7d30910-38da-43ee-8d74-040f7bd6d922"
      },
      "outputs": [],
      "source": [
        "import matplotlib.image as mpimg\n",
        "import matplotlib.pyplot as plt\n",
        "img = mpimg.imread('/content/drive/My Drive/Deeper.jpeg')\n",
        "plt.figure(figsize = (10,20))\n",
        "plt.imshow(img)\n",
        "plt.show()\n"
      ]
    },
    {
      "cell_type": "markdown",
      "metadata": {
        "id": "QESIOnCPZ1Dz"
      },
      "source": [
        "Let's try to improve the quality of recognition, using the method of transfer lerning. \n",
        "\n",
        "We will use weights of deep neural networks already trained on large dataset such as  ImageNet, and provide fine tuning of several additional dense layers on new data relevant to the current classification task. The more new images will differ from those on which the network has been trained, the more layers will need to be “retrained” in order to get good classification accuracy. The intuition here is that the model has already learned how to highlight the necessary features on the images in the large dataset, it only needs to be “tweaked” for a specific task.\n",
        "\n",
        "## Task 2\n",
        "\n",
        "1. Build and fit Transfer Learning model using pre-trained VGG16-model weights from keras application.\n",
        "2. Do the same with **another avaliable pre-trained deep learning model** from keras application https://keras.io/api/applications/.\n",
        "2. Evaluate accuracy on test data for p.1 and p.2\n",
        "3. Plot the graphs for Loss(number_of_epochs) and Accuracy(number_of_epochs)\n",
        "4. Check the performance of your model with the custom image of cat or dog (so the model will tell which class this image belongs to). Develop the function for the inference of the best algorithm."
      ]
    },
    {
      "cell_type": "code",
      "execution_count": null,
      "metadata": {
        "id": "Md_9fT-nZ1D2"
      },
      "outputs": [],
      "source": [
        "# First, download the weights of the VGG16 network trained on the ImageNet dataset:\n",
        "\n",
        "vgg16_net = VGG16(weights='imagenet', \n",
        "                  include_top=False,      # we take only the \"convolution\" part, the last layers we add ourselves\n",
        "                  input_shape=(150, 150, 3))\n",
        "vgg16_net.trainable = False               # clearly prescribe that we do NOT overload the network.\n",
        "                                          # Weights VGG16 in the process of learning will remain unchanged!\n",
        "\n",
        "vgg16_net.summary()                       # pay attention to the number of trained and untrained parameters"
      ]
    },
    {
      "cell_type": "markdown",
      "metadata": {
        "id": "a_DTDXqWZ1EG"
      },
      "source": [
        "We construct our model of \"transfer learning\" by adding two fully connected layers to VGG16"
      ]
    },
    {
      "cell_type": "code",
      "execution_count": null,
      "metadata": {
        "id": "hKYlhGqTZ1EJ"
      },
      "outputs": [],
      "source": [
        "# add layers to VGG16:\n",
        "\n",
        "model = Sequential()\n",
        "model.add(vgg16_net)\n",
        "\n",
        "# + flattening\n",
        "# + Dense fullyconnected layer with 256 neurons\n",
        "# + ReLu\n",
        "# + Dropout\n",
        "# + Dense layer with 1 neuron\n",
        "# + sigmoid\n",
        "\n",
        "model.summary()"
      ]
    },
    {
      "cell_type": "code",
      "execution_count": null,
      "metadata": {
        "id": "hKU1pQEeZ1Ea"
      },
      "outputs": [],
      "source": [
        "model.compile(loss='binary_crossentropy',\n",
        "              optimizer=Adam(lr=1e-5), \n",
        "              metrics=['accuracy'])"
      ]
    },
    {
      "cell_type": "markdown",
      "metadata": {
        "id": "ZxBZMbzAZ1Ex"
      },
      "source": [
        "E.g., it was like:\n"
      ]
    },
    {
      "cell_type": "code",
      "execution_count": null,
      "metadata": {
        "colab": {
          "base_uri": "https://localhost:8080/",
          "height": 173
        },
        "id": "MKMm7XjBXWJi",
        "outputId": "f8cd5a19-18dd-4bdf-c16b-c8cb865ee3ae"
      },
      "outputs": [],
      "source": [
        "img = mpimg.imread('/content/drive/My Drive/VGG16.png')\n",
        "plt.figure(figsize = (10,20))\n",
        "plt.imshow(img)\n",
        "plt.show()"
      ]
    },
    {
      "cell_type": "markdown",
      "metadata": {
        "id": "XAPd3c7SZ1FP"
      },
      "source": [
        "and it becomes:"
      ]
    },
    {
      "cell_type": "code",
      "execution_count": null,
      "metadata": {
        "colab": {
          "base_uri": "https://localhost:8080/",
          "height": 173
        },
        "id": "P8Llp_iqXSu5",
        "outputId": "bd3269a5-3822-4b40-8621-6dd6b505501e"
      },
      "outputs": [],
      "source": [
        "img = mpimg.imread('/content/drive/My Drive/VGG162.png')\n",
        "plt.figure(figsize = (10,20))\n",
        "plt.imshow(img)\n",
        "plt.show()"
      ]
    },
    {
      "cell_type": "code",
      "execution_count": null,
      "metadata": {
        "id": "gNX7L-MIZ1FX"
      },
      "outputs": [],
      "source": [
        "# We also use the generator to train the model (similar to the fit method)\n",
        "# Without using a GPU, learning 1 epoch of such a network will take about an hour. Plan your time =)\n",
        "# If you have access to a GPU, you can try 10-12 epochs - the quality should increase even more.\n",
        "\n",
        "model.fit_generator(\n",
        "    train_generator,\n",
        "    steps_per_epoch=nb_train_samples // batch_size,\n",
        "    epochs=5,\n",
        "    validation_data=val_generator,\n",
        "    validation_steps=nb_validation_samples // batch_size)"
      ]
    },
    {
      "cell_type": "code",
      "execution_count": null,
      "metadata": {
        "id": "vMCxq21YZ1Fh"
      },
      "outputs": [],
      "source": [
        "scores = model.evaluate_generator(test_generator, nb_test_samples // batch_size)\n",
        "print(\"Accuracy on test data: %.2f%%\" % (scores[1]*100))"
      ]
    }
  ],
  "metadata": {
    "colab": {
      "collapsed_sections": [],
      "name": "CNN_and_Transfer_Learning.ipynb",
      "provenance": []
    },
    "kernelspec": {
      "display_name": "Python 3",
      "language": "python",
      "name": "python3"
    },
    "language_info": {
      "codemirror_mode": {
        "name": "ipython",
        "version": 3
      },
      "file_extension": ".py",
      "mimetype": "text/x-python",
      "name": "python",
      "nbconvert_exporter": "python",
      "pygments_lexer": "ipython3",
      "version": "3.9.10"
    }
  },
  "nbformat": 4,
  "nbformat_minor": 0
}
